{
  "cells": [
    {
      "cell_type": "markdown",
      "metadata": {
        "id": "view-in-github",
        "colab_type": "text"
      },
      "source": [
        "<a href=\"https://colab.research.google.com/github/NassimKhair/NassimKhair/blob/main/Cars_Prices_Analysis_Python.ipynb\" target=\"_parent\"><img src=\"https://colab.research.google.com/assets/colab-badge.svg\" alt=\"Open In Colab\"/></a>"
      ]
    },
    {
      "cell_type": "code",
      "execution_count": null,
      "id": "74e483e6",
      "metadata": {
        "id": "74e483e6",
        "outputId": "d540025a-430c-4c57-d7a8-b3c776fe1fc3"
      },
      "outputs": [
        {
          "name": "stdout",
          "output_type": "stream",
          "text": [
            "<class 'pandas.core.frame.DataFrame'>\n",
            "RangeIndex: 2823 entries, 0 to 2822\n",
            "Data columns (total 25 columns):\n",
            " #   Column            Non-Null Count  Dtype  \n",
            "---  ------            --------------  -----  \n",
            " 0   ORDERNUMBER       2823 non-null   int64  \n",
            " 1   QUANTITYORDERED   2823 non-null   int64  \n",
            " 2   PRICEEACH         2823 non-null   float64\n",
            " 3   ORDERLINENUMBER   2823 non-null   int64  \n",
            " 4   SALES             2823 non-null   float64\n",
            " 5   ORDERDATE         2823 non-null   object \n",
            " 6   STATUS            2823 non-null   object \n",
            " 7   QTR_ID            2823 non-null   int64  \n",
            " 8   MONTH_ID          2823 non-null   int64  \n",
            " 9   YEAR_ID           2823 non-null   int64  \n",
            " 10  PRODUCTLINE       2823 non-null   object \n",
            " 11  MSRP              2823 non-null   int64  \n",
            " 12  PRODUCTCODE       2823 non-null   object \n",
            " 13  CUSTOMERNAME      2823 non-null   object \n",
            " 14  PHONE             2823 non-null   object \n",
            " 15  ADDRESSLINE1      2823 non-null   object \n",
            " 16  ADDRESSLINE2      302 non-null    object \n",
            " 17  CITY              2823 non-null   object \n",
            " 18  STATE             1337 non-null   object \n",
            " 19  POSTALCODE        2747 non-null   object \n",
            " 20  COUNTRY           2823 non-null   object \n",
            " 21  TERRITORY         1749 non-null   object \n",
            " 22  CONTACTLASTNAME   2823 non-null   object \n",
            " 23  CONTACTFIRSTNAME  2823 non-null   object \n",
            " 24  DEALSIZE          2823 non-null   object \n",
            "dtypes: float64(2), int64(7), object(16)\n",
            "memory usage: 551.5+ KB\n"
          ]
        }
      ],
      "source": [
        "# Import Libraries\n",
        "import pandas as pd\n",
        "import numpy as np\n",
        "import seaborn as sns\n",
        "import os\n",
        "import matplotlib.pyplot as plt\n",
        "# Upload the dataset in a dataframe form\n",
        "data = pd.read_csv(\"sales_data_sample.csv\"\n",
        "                       ,encoding=('ISO-8859-1')\n",
        "                  ,parse_dates=True)\n",
        "data.info()"
      ]
    },
    {
      "cell_type": "code",
      "execution_count": null,
      "id": "ce4a6d4c",
      "metadata": {
        "id": "ce4a6d4c",
        "outputId": "38dbc8f5-36ce-48bc-d871-77f8ac73dd07"
      },
      "outputs": [
        {
          "data": {
            "text/html": [
              "<div>\n",
              "<style scoped>\n",
              "    .dataframe tbody tr th:only-of-type {\n",
              "        vertical-align: middle;\n",
              "    }\n",
              "\n",
              "    .dataframe tbody tr th {\n",
              "        vertical-align: top;\n",
              "    }\n",
              "\n",
              "    .dataframe thead th {\n",
              "        text-align: right;\n",
              "    }\n",
              "</style>\n",
              "<table border=\"1\" class=\"dataframe\">\n",
              "  <thead>\n",
              "    <tr style=\"text-align: right;\">\n",
              "      <th></th>\n",
              "      <th>ORDERNUMBER</th>\n",
              "      <th>QUANTITYORDERED</th>\n",
              "      <th>PRICEEACH</th>\n",
              "      <th>ORDERLINENUMBER</th>\n",
              "      <th>SALES</th>\n",
              "      <th>ORDERDATE</th>\n",
              "      <th>STATUS</th>\n",
              "      <th>QTR_ID</th>\n",
              "      <th>MONTH_ID</th>\n",
              "      <th>YEAR_ID</th>\n",
              "      <th>...</th>\n",
              "      <th>ADDRESSLINE1</th>\n",
              "      <th>ADDRESSLINE2</th>\n",
              "      <th>CITY</th>\n",
              "      <th>STATE</th>\n",
              "      <th>POSTALCODE</th>\n",
              "      <th>COUNTRY</th>\n",
              "      <th>TERRITORY</th>\n",
              "      <th>CONTACTLASTNAME</th>\n",
              "      <th>CONTACTFIRSTNAME</th>\n",
              "      <th>DEALSIZE</th>\n",
              "    </tr>\n",
              "  </thead>\n",
              "  <tbody>\n",
              "    <tr>\n",
              "      <th>0</th>\n",
              "      <td>10107</td>\n",
              "      <td>30</td>\n",
              "      <td>95.70</td>\n",
              "      <td>2</td>\n",
              "      <td>2871.00</td>\n",
              "      <td>2/24/2003 0:00</td>\n",
              "      <td>Shipped</td>\n",
              "      <td>1</td>\n",
              "      <td>2</td>\n",
              "      <td>2003</td>\n",
              "      <td>...</td>\n",
              "      <td>897 Long Airport Avenue</td>\n",
              "      <td>NaN</td>\n",
              "      <td>NYC</td>\n",
              "      <td>NY</td>\n",
              "      <td>10022</td>\n",
              "      <td>USA</td>\n",
              "      <td>NaN</td>\n",
              "      <td>Yu</td>\n",
              "      <td>Kwai</td>\n",
              "      <td>Small</td>\n",
              "    </tr>\n",
              "    <tr>\n",
              "      <th>1</th>\n",
              "      <td>10121</td>\n",
              "      <td>34</td>\n",
              "      <td>81.35</td>\n",
              "      <td>5</td>\n",
              "      <td>2765.90</td>\n",
              "      <td>5/7/2003 0:00</td>\n",
              "      <td>Shipped</td>\n",
              "      <td>2</td>\n",
              "      <td>5</td>\n",
              "      <td>2003</td>\n",
              "      <td>...</td>\n",
              "      <td>59 rue de l'Abbaye</td>\n",
              "      <td>NaN</td>\n",
              "      <td>Reims</td>\n",
              "      <td>NaN</td>\n",
              "      <td>51100</td>\n",
              "      <td>France</td>\n",
              "      <td>EMEA</td>\n",
              "      <td>Henriot</td>\n",
              "      <td>Paul</td>\n",
              "      <td>Small</td>\n",
              "    </tr>\n",
              "    <tr>\n",
              "      <th>2</th>\n",
              "      <td>10134</td>\n",
              "      <td>41</td>\n",
              "      <td>94.74</td>\n",
              "      <td>2</td>\n",
              "      <td>3884.34</td>\n",
              "      <td>7/1/2003 0:00</td>\n",
              "      <td>Shipped</td>\n",
              "      <td>3</td>\n",
              "      <td>7</td>\n",
              "      <td>2003</td>\n",
              "      <td>...</td>\n",
              "      <td>27 rue du Colonel Pierre Avia</td>\n",
              "      <td>NaN</td>\n",
              "      <td>Paris</td>\n",
              "      <td>NaN</td>\n",
              "      <td>75508</td>\n",
              "      <td>France</td>\n",
              "      <td>EMEA</td>\n",
              "      <td>Da Cunha</td>\n",
              "      <td>Daniel</td>\n",
              "      <td>Medium</td>\n",
              "    </tr>\n",
              "    <tr>\n",
              "      <th>3</th>\n",
              "      <td>10145</td>\n",
              "      <td>45</td>\n",
              "      <td>83.26</td>\n",
              "      <td>6</td>\n",
              "      <td>3746.70</td>\n",
              "      <td>8/25/2003 0:00</td>\n",
              "      <td>Shipped</td>\n",
              "      <td>3</td>\n",
              "      <td>8</td>\n",
              "      <td>2003</td>\n",
              "      <td>...</td>\n",
              "      <td>78934 Hillside Dr.</td>\n",
              "      <td>NaN</td>\n",
              "      <td>Pasadena</td>\n",
              "      <td>CA</td>\n",
              "      <td>90003</td>\n",
              "      <td>USA</td>\n",
              "      <td>NaN</td>\n",
              "      <td>Young</td>\n",
              "      <td>Julie</td>\n",
              "      <td>Medium</td>\n",
              "    </tr>\n",
              "    <tr>\n",
              "      <th>4</th>\n",
              "      <td>10159</td>\n",
              "      <td>49</td>\n",
              "      <td>100.00</td>\n",
              "      <td>14</td>\n",
              "      <td>5205.27</td>\n",
              "      <td>10/10/2003 0:00</td>\n",
              "      <td>Shipped</td>\n",
              "      <td>4</td>\n",
              "      <td>10</td>\n",
              "      <td>2003</td>\n",
              "      <td>...</td>\n",
              "      <td>7734 Strong St.</td>\n",
              "      <td>NaN</td>\n",
              "      <td>San Francisco</td>\n",
              "      <td>CA</td>\n",
              "      <td>NaN</td>\n",
              "      <td>USA</td>\n",
              "      <td>NaN</td>\n",
              "      <td>Brown</td>\n",
              "      <td>Julie</td>\n",
              "      <td>Medium</td>\n",
              "    </tr>\n",
              "    <tr>\n",
              "      <th>...</th>\n",
              "      <td>...</td>\n",
              "      <td>...</td>\n",
              "      <td>...</td>\n",
              "      <td>...</td>\n",
              "      <td>...</td>\n",
              "      <td>...</td>\n",
              "      <td>...</td>\n",
              "      <td>...</td>\n",
              "      <td>...</td>\n",
              "      <td>...</td>\n",
              "      <td>...</td>\n",
              "      <td>...</td>\n",
              "      <td>...</td>\n",
              "      <td>...</td>\n",
              "      <td>...</td>\n",
              "      <td>...</td>\n",
              "      <td>...</td>\n",
              "      <td>...</td>\n",
              "      <td>...</td>\n",
              "      <td>...</td>\n",
              "      <td>...</td>\n",
              "    </tr>\n",
              "    <tr>\n",
              "      <th>2818</th>\n",
              "      <td>10350</td>\n",
              "      <td>20</td>\n",
              "      <td>100.00</td>\n",
              "      <td>15</td>\n",
              "      <td>2244.40</td>\n",
              "      <td>12/2/2004 0:00</td>\n",
              "      <td>Shipped</td>\n",
              "      <td>4</td>\n",
              "      <td>12</td>\n",
              "      <td>2004</td>\n",
              "      <td>...</td>\n",
              "      <td>C/ Moralzarzal, 86</td>\n",
              "      <td>NaN</td>\n",
              "      <td>Madrid</td>\n",
              "      <td>NaN</td>\n",
              "      <td>28034</td>\n",
              "      <td>Spain</td>\n",
              "      <td>EMEA</td>\n",
              "      <td>Freyre</td>\n",
              "      <td>Diego</td>\n",
              "      <td>Small</td>\n",
              "    </tr>\n",
              "    <tr>\n",
              "      <th>2819</th>\n",
              "      <td>10373</td>\n",
              "      <td>29</td>\n",
              "      <td>100.00</td>\n",
              "      <td>1</td>\n",
              "      <td>3978.51</td>\n",
              "      <td>1/31/2005 0:00</td>\n",
              "      <td>Shipped</td>\n",
              "      <td>1</td>\n",
              "      <td>1</td>\n",
              "      <td>2005</td>\n",
              "      <td>...</td>\n",
              "      <td>Torikatu 38</td>\n",
              "      <td>NaN</td>\n",
              "      <td>Oulu</td>\n",
              "      <td>NaN</td>\n",
              "      <td>90110</td>\n",
              "      <td>Finland</td>\n",
              "      <td>EMEA</td>\n",
              "      <td>Koskitalo</td>\n",
              "      <td>Pirkko</td>\n",
              "      <td>Medium</td>\n",
              "    </tr>\n",
              "    <tr>\n",
              "      <th>2820</th>\n",
              "      <td>10386</td>\n",
              "      <td>43</td>\n",
              "      <td>100.00</td>\n",
              "      <td>4</td>\n",
              "      <td>5417.57</td>\n",
              "      <td>3/1/2005 0:00</td>\n",
              "      <td>Resolved</td>\n",
              "      <td>1</td>\n",
              "      <td>3</td>\n",
              "      <td>2005</td>\n",
              "      <td>...</td>\n",
              "      <td>C/ Moralzarzal, 86</td>\n",
              "      <td>NaN</td>\n",
              "      <td>Madrid</td>\n",
              "      <td>NaN</td>\n",
              "      <td>28034</td>\n",
              "      <td>Spain</td>\n",
              "      <td>EMEA</td>\n",
              "      <td>Freyre</td>\n",
              "      <td>Diego</td>\n",
              "      <td>Medium</td>\n",
              "    </tr>\n",
              "    <tr>\n",
              "      <th>2821</th>\n",
              "      <td>10397</td>\n",
              "      <td>34</td>\n",
              "      <td>62.24</td>\n",
              "      <td>1</td>\n",
              "      <td>2116.16</td>\n",
              "      <td>3/28/2005 0:00</td>\n",
              "      <td>Shipped</td>\n",
              "      <td>1</td>\n",
              "      <td>3</td>\n",
              "      <td>2005</td>\n",
              "      <td>...</td>\n",
              "      <td>1 rue Alsace-Lorraine</td>\n",
              "      <td>NaN</td>\n",
              "      <td>Toulouse</td>\n",
              "      <td>NaN</td>\n",
              "      <td>31000</td>\n",
              "      <td>France</td>\n",
              "      <td>EMEA</td>\n",
              "      <td>Roulet</td>\n",
              "      <td>Annette</td>\n",
              "      <td>Small</td>\n",
              "    </tr>\n",
              "    <tr>\n",
              "      <th>2822</th>\n",
              "      <td>10414</td>\n",
              "      <td>47</td>\n",
              "      <td>65.52</td>\n",
              "      <td>9</td>\n",
              "      <td>3079.44</td>\n",
              "      <td>5/6/2005 0:00</td>\n",
              "      <td>On Hold</td>\n",
              "      <td>2</td>\n",
              "      <td>5</td>\n",
              "      <td>2005</td>\n",
              "      <td>...</td>\n",
              "      <td>8616 Spinnaker Dr.</td>\n",
              "      <td>NaN</td>\n",
              "      <td>Boston</td>\n",
              "      <td>MA</td>\n",
              "      <td>51003</td>\n",
              "      <td>USA</td>\n",
              "      <td>NaN</td>\n",
              "      <td>Yoshido</td>\n",
              "      <td>Juri</td>\n",
              "      <td>Medium</td>\n",
              "    </tr>\n",
              "  </tbody>\n",
              "</table>\n",
              "<p>2823 rows × 25 columns</p>\n",
              "</div>"
            ],
            "text/plain": [
              "      ORDERNUMBER  QUANTITYORDERED  PRICEEACH  ORDERLINENUMBER    SALES  \\\n",
              "0           10107               30      95.70                2  2871.00   \n",
              "1           10121               34      81.35                5  2765.90   \n",
              "2           10134               41      94.74                2  3884.34   \n",
              "3           10145               45      83.26                6  3746.70   \n",
              "4           10159               49     100.00               14  5205.27   \n",
              "...           ...              ...        ...              ...      ...   \n",
              "2818        10350               20     100.00               15  2244.40   \n",
              "2819        10373               29     100.00                1  3978.51   \n",
              "2820        10386               43     100.00                4  5417.57   \n",
              "2821        10397               34      62.24                1  2116.16   \n",
              "2822        10414               47      65.52                9  3079.44   \n",
              "\n",
              "            ORDERDATE    STATUS  QTR_ID  MONTH_ID  YEAR_ID  ...  \\\n",
              "0      2/24/2003 0:00   Shipped       1         2     2003  ...   \n",
              "1       5/7/2003 0:00   Shipped       2         5     2003  ...   \n",
              "2       7/1/2003 0:00   Shipped       3         7     2003  ...   \n",
              "3      8/25/2003 0:00   Shipped       3         8     2003  ...   \n",
              "4     10/10/2003 0:00   Shipped       4        10     2003  ...   \n",
              "...               ...       ...     ...       ...      ...  ...   \n",
              "2818   12/2/2004 0:00   Shipped       4        12     2004  ...   \n",
              "2819   1/31/2005 0:00   Shipped       1         1     2005  ...   \n",
              "2820    3/1/2005 0:00  Resolved       1         3     2005  ...   \n",
              "2821   3/28/2005 0:00   Shipped       1         3     2005  ...   \n",
              "2822    5/6/2005 0:00   On Hold       2         5     2005  ...   \n",
              "\n",
              "                       ADDRESSLINE1  ADDRESSLINE2           CITY STATE  \\\n",
              "0           897 Long Airport Avenue           NaN            NYC    NY   \n",
              "1                59 rue de l'Abbaye           NaN          Reims   NaN   \n",
              "2     27 rue du Colonel Pierre Avia           NaN          Paris   NaN   \n",
              "3                78934 Hillside Dr.           NaN       Pasadena    CA   \n",
              "4                   7734 Strong St.           NaN  San Francisco    CA   \n",
              "...                             ...           ...            ...   ...   \n",
              "2818             C/ Moralzarzal, 86           NaN         Madrid   NaN   \n",
              "2819                    Torikatu 38           NaN           Oulu   NaN   \n",
              "2820             C/ Moralzarzal, 86           NaN         Madrid   NaN   \n",
              "2821          1 rue Alsace-Lorraine           NaN       Toulouse   NaN   \n",
              "2822             8616 Spinnaker Dr.           NaN         Boston    MA   \n",
              "\n",
              "     POSTALCODE  COUNTRY TERRITORY CONTACTLASTNAME CONTACTFIRSTNAME DEALSIZE  \n",
              "0         10022      USA       NaN              Yu             Kwai    Small  \n",
              "1         51100   France      EMEA         Henriot             Paul    Small  \n",
              "2         75508   France      EMEA        Da Cunha           Daniel   Medium  \n",
              "3         90003      USA       NaN           Young            Julie   Medium  \n",
              "4           NaN      USA       NaN           Brown            Julie   Medium  \n",
              "...         ...      ...       ...             ...              ...      ...  \n",
              "2818      28034    Spain      EMEA          Freyre            Diego    Small  \n",
              "2819      90110  Finland      EMEA       Koskitalo           Pirkko   Medium  \n",
              "2820      28034    Spain      EMEA          Freyre            Diego   Medium  \n",
              "2821      31000   France      EMEA          Roulet          Annette    Small  \n",
              "2822      51003      USA       NaN         Yoshido             Juri   Medium  \n",
              "\n",
              "[2823 rows x 25 columns]"
            ]
          },
          "execution_count": 4,
          "metadata": {},
          "output_type": "execute_result"
        }
      ],
      "source": [
        "data"
      ]
    },
    {
      "cell_type": "code",
      "execution_count": null,
      "id": "edcc8705",
      "metadata": {
        "id": "edcc8705"
      },
      "outputs": [],
      "source": []
    },
    {
      "cell_type": "code",
      "execution_count": null,
      "id": "aadecf27",
      "metadata": {
        "id": "aadecf27"
      },
      "outputs": [],
      "source": []
    },
    {
      "cell_type": "code",
      "execution_count": null,
      "id": "97c1c81c",
      "metadata": {
        "id": "97c1c81c",
        "outputId": "c0eb2195-f53a-4000-d20b-37d5ea87dc5b"
      },
      "outputs": [
        {
          "data": {
            "text/html": [
              "<div>\n",
              "<style scoped>\n",
              "    .dataframe tbody tr th:only-of-type {\n",
              "        vertical-align: middle;\n",
              "    }\n",
              "\n",
              "    .dataframe tbody tr th {\n",
              "        vertical-align: top;\n",
              "    }\n",
              "\n",
              "    .dataframe thead th {\n",
              "        text-align: right;\n",
              "    }\n",
              "</style>\n",
              "<table border=\"1\" class=\"dataframe\">\n",
              "  <thead>\n",
              "    <tr style=\"text-align: right;\">\n",
              "      <th></th>\n",
              "      <th>ORDERNUMBER</th>\n",
              "      <th>PRODUCTLINE</th>\n",
              "      <th>QUANTITYORDERED</th>\n",
              "      <th>PRICEEACH</th>\n",
              "      <th>ORDERDATE</th>\n",
              "      <th>ADDRESSLINE1</th>\n",
              "      <th>MONTH_ID</th>\n",
              "      <th>CITY</th>\n",
              "    </tr>\n",
              "  </thead>\n",
              "  <tbody>\n",
              "    <tr>\n",
              "      <th>0</th>\n",
              "      <td>10107</td>\n",
              "      <td>Motorcycles</td>\n",
              "      <td>30</td>\n",
              "      <td>95.70</td>\n",
              "      <td>2/24/2003 0:00</td>\n",
              "      <td>897 Long Airport Avenue</td>\n",
              "      <td>2</td>\n",
              "      <td>NYC</td>\n",
              "    </tr>\n",
              "    <tr>\n",
              "      <th>1</th>\n",
              "      <td>10121</td>\n",
              "      <td>Motorcycles</td>\n",
              "      <td>34</td>\n",
              "      <td>81.35</td>\n",
              "      <td>5/7/2003 0:00</td>\n",
              "      <td>59 rue de l'Abbaye</td>\n",
              "      <td>5</td>\n",
              "      <td>Reims</td>\n",
              "    </tr>\n",
              "    <tr>\n",
              "      <th>2</th>\n",
              "      <td>10134</td>\n",
              "      <td>Motorcycles</td>\n",
              "      <td>41</td>\n",
              "      <td>94.74</td>\n",
              "      <td>7/1/2003 0:00</td>\n",
              "      <td>27 rue du Colonel Pierre Avia</td>\n",
              "      <td>7</td>\n",
              "      <td>Paris</td>\n",
              "    </tr>\n",
              "    <tr>\n",
              "      <th>3</th>\n",
              "      <td>10145</td>\n",
              "      <td>Motorcycles</td>\n",
              "      <td>45</td>\n",
              "      <td>83.26</td>\n",
              "      <td>8/25/2003 0:00</td>\n",
              "      <td>78934 Hillside Dr.</td>\n",
              "      <td>8</td>\n",
              "      <td>Pasadena</td>\n",
              "    </tr>\n",
              "    <tr>\n",
              "      <th>4</th>\n",
              "      <td>10159</td>\n",
              "      <td>Motorcycles</td>\n",
              "      <td>49</td>\n",
              "      <td>100.00</td>\n",
              "      <td>10/10/2003 0:00</td>\n",
              "      <td>7734 Strong St.</td>\n",
              "      <td>10</td>\n",
              "      <td>San Francisco</td>\n",
              "    </tr>\n",
              "  </tbody>\n",
              "</table>\n",
              "</div>"
            ],
            "text/plain": [
              "   ORDERNUMBER  PRODUCTLINE  QUANTITYORDERED  PRICEEACH        ORDERDATE  \\\n",
              "0        10107  Motorcycles               30      95.70   2/24/2003 0:00   \n",
              "1        10121  Motorcycles               34      81.35    5/7/2003 0:00   \n",
              "2        10134  Motorcycles               41      94.74    7/1/2003 0:00   \n",
              "3        10145  Motorcycles               45      83.26   8/25/2003 0:00   \n",
              "4        10159  Motorcycles               49     100.00  10/10/2003 0:00   \n",
              "\n",
              "                    ADDRESSLINE1  MONTH_ID           CITY  \n",
              "0        897 Long Airport Avenue         2            NYC  \n",
              "1             59 rue de l'Abbaye         5          Reims  \n",
              "2  27 rue du Colonel Pierre Avia         7          Paris  \n",
              "3             78934 Hillside Dr.         8       Pasadena  \n",
              "4                7734 Strong St.        10  San Francisco  "
            ]
          },
          "execution_count": 95,
          "metadata": {},
          "output_type": "execute_result"
        }
      ],
      "source": [
        "# Select the chosen columns\n",
        "sd = data[['ORDERNUMBER','PRODUCTLINE','QUANTITYORDERED','PRICEEACH','ORDERDATE','ADDRESSLINE1','MONTH_ID','CITY']]\n",
        "sd.head()"
      ]
    },
    {
      "cell_type": "code",
      "execution_count": null,
      "id": "92c33613",
      "metadata": {
        "id": "92c33613",
        "outputId": "f79d0726-9587-474a-e4f2-82597a5e5ab6"
      },
      "outputs": [
        {
          "data": {
            "text/html": [
              "<div>\n",
              "<style scoped>\n",
              "    .dataframe tbody tr th:only-of-type {\n",
              "        vertical-align: middle;\n",
              "    }\n",
              "\n",
              "    .dataframe tbody tr th {\n",
              "        vertical-align: top;\n",
              "    }\n",
              "\n",
              "    .dataframe thead th {\n",
              "        text-align: right;\n",
              "    }\n",
              "</style>\n",
              "<table border=\"1\" class=\"dataframe\">\n",
              "  <thead>\n",
              "    <tr style=\"text-align: right;\">\n",
              "      <th></th>\n",
              "      <th>ORDERNUMBER</th>\n",
              "      <th>PRODUCTLINE</th>\n",
              "      <th>QUANTITYORDERED</th>\n",
              "      <th>PRICEEACH</th>\n",
              "      <th>ORDERDATE</th>\n",
              "      <th>ADDRESSLINE1</th>\n",
              "      <th>MONTH_ID</th>\n",
              "      <th>CITY</th>\n",
              "    </tr>\n",
              "  </thead>\n",
              "  <tbody>\n",
              "    <tr>\n",
              "      <th>0</th>\n",
              "      <td>10107</td>\n",
              "      <td>Motorcycles</td>\n",
              "      <td>30</td>\n",
              "      <td>95.70</td>\n",
              "      <td>2/24/2003 0:00</td>\n",
              "      <td>897 Long Airport Avenue</td>\n",
              "      <td>2</td>\n",
              "      <td>NYC</td>\n",
              "    </tr>\n",
              "    <tr>\n",
              "      <th>1</th>\n",
              "      <td>10121</td>\n",
              "      <td>Motorcycles</td>\n",
              "      <td>34</td>\n",
              "      <td>81.35</td>\n",
              "      <td>5/7/2003 0:00</td>\n",
              "      <td>59 rue de l'Abbaye</td>\n",
              "      <td>5</td>\n",
              "      <td>Reims</td>\n",
              "    </tr>\n",
              "    <tr>\n",
              "      <th>2</th>\n",
              "      <td>10134</td>\n",
              "      <td>Motorcycles</td>\n",
              "      <td>41</td>\n",
              "      <td>94.74</td>\n",
              "      <td>7/1/2003 0:00</td>\n",
              "      <td>27 rue du Colonel Pierre Avia</td>\n",
              "      <td>7</td>\n",
              "      <td>Paris</td>\n",
              "    </tr>\n",
              "    <tr>\n",
              "      <th>3</th>\n",
              "      <td>10145</td>\n",
              "      <td>Motorcycles</td>\n",
              "      <td>45</td>\n",
              "      <td>83.26</td>\n",
              "      <td>8/25/2003 0:00</td>\n",
              "      <td>78934 Hillside Dr.</td>\n",
              "      <td>8</td>\n",
              "      <td>Pasadena</td>\n",
              "    </tr>\n",
              "    <tr>\n",
              "      <th>4</th>\n",
              "      <td>10159</td>\n",
              "      <td>Motorcycles</td>\n",
              "      <td>49</td>\n",
              "      <td>100.00</td>\n",
              "      <td>10/10/2003 0:00</td>\n",
              "      <td>7734 Strong St.</td>\n",
              "      <td>10</td>\n",
              "      <td>San Francisco</td>\n",
              "    </tr>\n",
              "    <tr>\n",
              "      <th>...</th>\n",
              "      <td>...</td>\n",
              "      <td>...</td>\n",
              "      <td>...</td>\n",
              "      <td>...</td>\n",
              "      <td>...</td>\n",
              "      <td>...</td>\n",
              "      <td>...</td>\n",
              "      <td>...</td>\n",
              "    </tr>\n",
              "    <tr>\n",
              "      <th>2818</th>\n",
              "      <td>10350</td>\n",
              "      <td>Ships</td>\n",
              "      <td>20</td>\n",
              "      <td>100.00</td>\n",
              "      <td>12/2/2004 0:00</td>\n",
              "      <td>C/ Moralzarzal, 86</td>\n",
              "      <td>12</td>\n",
              "      <td>Madrid</td>\n",
              "    </tr>\n",
              "    <tr>\n",
              "      <th>2819</th>\n",
              "      <td>10373</td>\n",
              "      <td>Ships</td>\n",
              "      <td>29</td>\n",
              "      <td>100.00</td>\n",
              "      <td>1/31/2005 0:00</td>\n",
              "      <td>Torikatu 38</td>\n",
              "      <td>1</td>\n",
              "      <td>Oulu</td>\n",
              "    </tr>\n",
              "    <tr>\n",
              "      <th>2820</th>\n",
              "      <td>10386</td>\n",
              "      <td>Ships</td>\n",
              "      <td>43</td>\n",
              "      <td>100.00</td>\n",
              "      <td>3/1/2005 0:00</td>\n",
              "      <td>C/ Moralzarzal, 86</td>\n",
              "      <td>3</td>\n",
              "      <td>Madrid</td>\n",
              "    </tr>\n",
              "    <tr>\n",
              "      <th>2821</th>\n",
              "      <td>10397</td>\n",
              "      <td>Ships</td>\n",
              "      <td>34</td>\n",
              "      <td>62.24</td>\n",
              "      <td>3/28/2005 0:00</td>\n",
              "      <td>1 rue Alsace-Lorraine</td>\n",
              "      <td>3</td>\n",
              "      <td>Toulouse</td>\n",
              "    </tr>\n",
              "    <tr>\n",
              "      <th>2822</th>\n",
              "      <td>10414</td>\n",
              "      <td>Ships</td>\n",
              "      <td>47</td>\n",
              "      <td>65.52</td>\n",
              "      <td>5/6/2005 0:00</td>\n",
              "      <td>8616 Spinnaker Dr.</td>\n",
              "      <td>5</td>\n",
              "      <td>Boston</td>\n",
              "    </tr>\n",
              "  </tbody>\n",
              "</table>\n",
              "<p>2823 rows × 8 columns</p>\n",
              "</div>"
            ],
            "text/plain": [
              "      ORDERNUMBER  PRODUCTLINE  QUANTITYORDERED  PRICEEACH        ORDERDATE  \\\n",
              "0           10107  Motorcycles               30      95.70   2/24/2003 0:00   \n",
              "1           10121  Motorcycles               34      81.35    5/7/2003 0:00   \n",
              "2           10134  Motorcycles               41      94.74    7/1/2003 0:00   \n",
              "3           10145  Motorcycles               45      83.26   8/25/2003 0:00   \n",
              "4           10159  Motorcycles               49     100.00  10/10/2003 0:00   \n",
              "...           ...          ...              ...        ...              ...   \n",
              "2818        10350        Ships               20     100.00   12/2/2004 0:00   \n",
              "2819        10373        Ships               29     100.00   1/31/2005 0:00   \n",
              "2820        10386        Ships               43     100.00    3/1/2005 0:00   \n",
              "2821        10397        Ships               34      62.24   3/28/2005 0:00   \n",
              "2822        10414        Ships               47      65.52    5/6/2005 0:00   \n",
              "\n",
              "                       ADDRESSLINE1  MONTH_ID           CITY  \n",
              "0           897 Long Airport Avenue         2            NYC  \n",
              "1                59 rue de l'Abbaye         5          Reims  \n",
              "2     27 rue du Colonel Pierre Avia         7          Paris  \n",
              "3                78934 Hillside Dr.         8       Pasadena  \n",
              "4                   7734 Strong St.        10  San Francisco  \n",
              "...                             ...       ...            ...  \n",
              "2818             C/ Moralzarzal, 86        12         Madrid  \n",
              "2819                    Torikatu 38         1           Oulu  \n",
              "2820             C/ Moralzarzal, 86         3         Madrid  \n",
              "2821          1 rue Alsace-Lorraine         3       Toulouse  \n",
              "2822             8616 Spinnaker Dr.         5         Boston  \n",
              "\n",
              "[2823 rows x 8 columns]"
            ]
          },
          "execution_count": 96,
          "metadata": {},
          "output_type": "execute_result"
        }
      ],
      "source": [
        "sd"
      ]
    },
    {
      "cell_type": "code",
      "execution_count": null,
      "id": "9d58b11f",
      "metadata": {
        "id": "9d58b11f",
        "outputId": "e7c6976a-e7d7-41a1-f693-1fbaa9e6cc0f"
      },
      "outputs": [
        {
          "name": "stdout",
          "output_type": "stream",
          "text": [
            "<class 'numpy.int64'>\n"
          ]
        }
      ],
      "source": [
        "print(type(sd['ORDERNUMBER'][0]))"
      ]
    },
    {
      "cell_type": "code",
      "execution_count": null,
      "id": "338cc867",
      "metadata": {
        "id": "338cc867",
        "outputId": "ee4d0a9e-68c5-434e-e806-93221d65c72b"
      },
      "outputs": [
        {
          "data": {
            "text/plain": [
              "ORDERNUMBER        0\n",
              "PRODUCTLINE        0\n",
              "QUANTITYORDERED    0\n",
              "PRICEEACH          0\n",
              "ORDERDATE          0\n",
              "ADDRESSLINE1       0\n",
              "MONTH_ID           0\n",
              "CITY               0\n",
              "dtype: int64"
            ]
          },
          "execution_count": 98,
          "metadata": {},
          "output_type": "execute_result"
        }
      ],
      "source": [
        "#To know the empty columns\n",
        "sd.isnull().sum()"
      ]
    },
    {
      "cell_type": "code",
      "execution_count": null,
      "id": "9f64216d",
      "metadata": {
        "id": "9f64216d",
        "outputId": "2b68ff5e-90f9-401f-baa4-55b343d716f7"
      },
      "outputs": [
        {
          "data": {
            "text/plain": [
              "ORDERNUMBER        False\n",
              "PRODUCTLINE        False\n",
              "QUANTITYORDERED    False\n",
              "PRICEEACH          False\n",
              "ORDERDATE          False\n",
              "ADDRESSLINE1       False\n",
              "MONTH_ID           False\n",
              "CITY               False\n",
              "dtype: bool"
            ]
          },
          "execution_count": 99,
          "metadata": {},
          "output_type": "execute_result"
        }
      ],
      "source": [
        "#THe chosen columns is not empty\n",
        "sd.isna().any()"
      ]
    },
    {
      "cell_type": "code",
      "execution_count": null,
      "id": "b11c3f03",
      "metadata": {
        "id": "b11c3f03",
        "outputId": "fc48de81-b8be-48af-f1f3-3f1ea05e600b"
      },
      "outputs": [
        {
          "data": {
            "text/html": [
              "<div>\n",
              "<style scoped>\n",
              "    .dataframe tbody tr th:only-of-type {\n",
              "        vertical-align: middle;\n",
              "    }\n",
              "\n",
              "    .dataframe tbody tr th {\n",
              "        vertical-align: top;\n",
              "    }\n",
              "\n",
              "    .dataframe thead th {\n",
              "        text-align: right;\n",
              "    }\n",
              "</style>\n",
              "<table border=\"1\" class=\"dataframe\">\n",
              "  <thead>\n",
              "    <tr style=\"text-align: right;\">\n",
              "      <th></th>\n",
              "      <th>ORDERNUMBER</th>\n",
              "      <th>QUANTITYORDERED</th>\n",
              "      <th>PRICEEACH</th>\n",
              "      <th>MONTH_ID</th>\n",
              "    </tr>\n",
              "  </thead>\n",
              "  <tbody>\n",
              "    <tr>\n",
              "      <th>count</th>\n",
              "      <td>2823.000000</td>\n",
              "      <td>2823.000000</td>\n",
              "      <td>2823.000000</td>\n",
              "      <td>2823.000000</td>\n",
              "    </tr>\n",
              "    <tr>\n",
              "      <th>mean</th>\n",
              "      <td>10258.725115</td>\n",
              "      <td>35.092809</td>\n",
              "      <td>83.658544</td>\n",
              "      <td>7.092455</td>\n",
              "    </tr>\n",
              "    <tr>\n",
              "      <th>std</th>\n",
              "      <td>92.085478</td>\n",
              "      <td>9.741443</td>\n",
              "      <td>20.174277</td>\n",
              "      <td>3.656633</td>\n",
              "    </tr>\n",
              "    <tr>\n",
              "      <th>min</th>\n",
              "      <td>10100.000000</td>\n",
              "      <td>6.000000</td>\n",
              "      <td>26.880000</td>\n",
              "      <td>1.000000</td>\n",
              "    </tr>\n",
              "    <tr>\n",
              "      <th>25%</th>\n",
              "      <td>10180.000000</td>\n",
              "      <td>27.000000</td>\n",
              "      <td>68.860000</td>\n",
              "      <td>4.000000</td>\n",
              "    </tr>\n",
              "    <tr>\n",
              "      <th>50%</th>\n",
              "      <td>10262.000000</td>\n",
              "      <td>35.000000</td>\n",
              "      <td>95.700000</td>\n",
              "      <td>8.000000</td>\n",
              "    </tr>\n",
              "    <tr>\n",
              "      <th>75%</th>\n",
              "      <td>10333.500000</td>\n",
              "      <td>43.000000</td>\n",
              "      <td>100.000000</td>\n",
              "      <td>11.000000</td>\n",
              "    </tr>\n",
              "    <tr>\n",
              "      <th>max</th>\n",
              "      <td>10425.000000</td>\n",
              "      <td>97.000000</td>\n",
              "      <td>100.000000</td>\n",
              "      <td>12.000000</td>\n",
              "    </tr>\n",
              "  </tbody>\n",
              "</table>\n",
              "</div>"
            ],
            "text/plain": [
              "        ORDERNUMBER  QUANTITYORDERED    PRICEEACH     MONTH_ID\n",
              "count   2823.000000      2823.000000  2823.000000  2823.000000\n",
              "mean   10258.725115        35.092809    83.658544     7.092455\n",
              "std       92.085478         9.741443    20.174277     3.656633\n",
              "min    10100.000000         6.000000    26.880000     1.000000\n",
              "25%    10180.000000        27.000000    68.860000     4.000000\n",
              "50%    10262.000000        35.000000    95.700000     8.000000\n",
              "75%    10333.500000        43.000000   100.000000    11.000000\n",
              "max    10425.000000        97.000000   100.000000    12.000000"
            ]
          },
          "execution_count": 100,
          "metadata": {},
          "output_type": "execute_result"
        }
      ],
      "source": [
        "sd.describe()"
      ]
    },
    {
      "cell_type": "code",
      "execution_count": null,
      "id": "b863a508",
      "metadata": {
        "id": "b863a508",
        "outputId": "545049f3-4319-42d2-87a6-76bd395a7cc1"
      },
      "outputs": [
        {
          "data": {
            "text/html": [
              "<div>\n",
              "<style scoped>\n",
              "    .dataframe tbody tr th:only-of-type {\n",
              "        vertical-align: middle;\n",
              "    }\n",
              "\n",
              "    .dataframe tbody tr th {\n",
              "        vertical-align: top;\n",
              "    }\n",
              "\n",
              "    .dataframe thead th {\n",
              "        text-align: right;\n",
              "    }\n",
              "</style>\n",
              "<table border=\"1\" class=\"dataframe\">\n",
              "  <thead>\n",
              "    <tr style=\"text-align: right;\">\n",
              "      <th></th>\n",
              "      <th>ORDERNUMBER</th>\n",
              "      <th>PRODUCTLINE</th>\n",
              "      <th>QUANTITYORDERED</th>\n",
              "      <th>PRICEEACH</th>\n",
              "      <th>ORDERDATE</th>\n",
              "      <th>ADDRESSLINE1</th>\n",
              "      <th>MONTH_ID</th>\n",
              "      <th>CITY</th>\n",
              "    </tr>\n",
              "  </thead>\n",
              "  <tbody>\n",
              "    <tr>\n",
              "      <th>0</th>\n",
              "      <td>10107</td>\n",
              "      <td>Motorcycles</td>\n",
              "      <td>30</td>\n",
              "      <td>95.70</td>\n",
              "      <td>2/24/2003 0:00</td>\n",
              "      <td>897 Long Airport Avenue</td>\n",
              "      <td>2</td>\n",
              "      <td>NYC</td>\n",
              "    </tr>\n",
              "    <tr>\n",
              "      <th>1</th>\n",
              "      <td>10121</td>\n",
              "      <td>Motorcycles</td>\n",
              "      <td>34</td>\n",
              "      <td>81.35</td>\n",
              "      <td>5/7/2003 0:00</td>\n",
              "      <td>59 rue de l'Abbaye</td>\n",
              "      <td>5</td>\n",
              "      <td>Reims</td>\n",
              "    </tr>\n",
              "    <tr>\n",
              "      <th>2</th>\n",
              "      <td>10134</td>\n",
              "      <td>Motorcycles</td>\n",
              "      <td>41</td>\n",
              "      <td>94.74</td>\n",
              "      <td>7/1/2003 0:00</td>\n",
              "      <td>27 rue du Colonel Pierre Avia</td>\n",
              "      <td>7</td>\n",
              "      <td>Paris</td>\n",
              "    </tr>\n",
              "    <tr>\n",
              "      <th>3</th>\n",
              "      <td>10145</td>\n",
              "      <td>Motorcycles</td>\n",
              "      <td>45</td>\n",
              "      <td>83.26</td>\n",
              "      <td>8/25/2003 0:00</td>\n",
              "      <td>78934 Hillside Dr.</td>\n",
              "      <td>8</td>\n",
              "      <td>Pasadena</td>\n",
              "    </tr>\n",
              "    <tr>\n",
              "      <th>4</th>\n",
              "      <td>10159</td>\n",
              "      <td>Motorcycles</td>\n",
              "      <td>49</td>\n",
              "      <td>100.00</td>\n",
              "      <td>10/10/2003 0:00</td>\n",
              "      <td>7734 Strong St.</td>\n",
              "      <td>10</td>\n",
              "      <td>San Francisco</td>\n",
              "    </tr>\n",
              "    <tr>\n",
              "      <th>...</th>\n",
              "      <td>...</td>\n",
              "      <td>...</td>\n",
              "      <td>...</td>\n",
              "      <td>...</td>\n",
              "      <td>...</td>\n",
              "      <td>...</td>\n",
              "      <td>...</td>\n",
              "      <td>...</td>\n",
              "    </tr>\n",
              "    <tr>\n",
              "      <th>2818</th>\n",
              "      <td>10350</td>\n",
              "      <td>Ships</td>\n",
              "      <td>20</td>\n",
              "      <td>100.00</td>\n",
              "      <td>12/2/2004 0:00</td>\n",
              "      <td>C/ Moralzarzal, 86</td>\n",
              "      <td>12</td>\n",
              "      <td>Madrid</td>\n",
              "    </tr>\n",
              "    <tr>\n",
              "      <th>2819</th>\n",
              "      <td>10373</td>\n",
              "      <td>Ships</td>\n",
              "      <td>29</td>\n",
              "      <td>100.00</td>\n",
              "      <td>1/31/2005 0:00</td>\n",
              "      <td>Torikatu 38</td>\n",
              "      <td>1</td>\n",
              "      <td>Oulu</td>\n",
              "    </tr>\n",
              "    <tr>\n",
              "      <th>2820</th>\n",
              "      <td>10386</td>\n",
              "      <td>Ships</td>\n",
              "      <td>43</td>\n",
              "      <td>100.00</td>\n",
              "      <td>3/1/2005 0:00</td>\n",
              "      <td>C/ Moralzarzal, 86</td>\n",
              "      <td>3</td>\n",
              "      <td>Madrid</td>\n",
              "    </tr>\n",
              "    <tr>\n",
              "      <th>2821</th>\n",
              "      <td>10397</td>\n",
              "      <td>Ships</td>\n",
              "      <td>34</td>\n",
              "      <td>62.24</td>\n",
              "      <td>3/28/2005 0:00</td>\n",
              "      <td>1 rue Alsace-Lorraine</td>\n",
              "      <td>3</td>\n",
              "      <td>Toulouse</td>\n",
              "    </tr>\n",
              "    <tr>\n",
              "      <th>2822</th>\n",
              "      <td>10414</td>\n",
              "      <td>Ships</td>\n",
              "      <td>47</td>\n",
              "      <td>65.52</td>\n",
              "      <td>5/6/2005 0:00</td>\n",
              "      <td>8616 Spinnaker Dr.</td>\n",
              "      <td>5</td>\n",
              "      <td>Boston</td>\n",
              "    </tr>\n",
              "  </tbody>\n",
              "</table>\n",
              "<p>2823 rows × 8 columns</p>\n",
              "</div>"
            ],
            "text/plain": [
              "      ORDERNUMBER  PRODUCTLINE  QUANTITYORDERED  PRICEEACH        ORDERDATE  \\\n",
              "0           10107  Motorcycles               30      95.70   2/24/2003 0:00   \n",
              "1           10121  Motorcycles               34      81.35    5/7/2003 0:00   \n",
              "2           10134  Motorcycles               41      94.74    7/1/2003 0:00   \n",
              "3           10145  Motorcycles               45      83.26   8/25/2003 0:00   \n",
              "4           10159  Motorcycles               49     100.00  10/10/2003 0:00   \n",
              "...           ...          ...              ...        ...              ...   \n",
              "2818        10350        Ships               20     100.00   12/2/2004 0:00   \n",
              "2819        10373        Ships               29     100.00   1/31/2005 0:00   \n",
              "2820        10386        Ships               43     100.00    3/1/2005 0:00   \n",
              "2821        10397        Ships               34      62.24   3/28/2005 0:00   \n",
              "2822        10414        Ships               47      65.52    5/6/2005 0:00   \n",
              "\n",
              "                       ADDRESSLINE1  MONTH_ID           CITY  \n",
              "0           897 Long Airport Avenue         2            NYC  \n",
              "1                59 rue de l'Abbaye         5          Reims  \n",
              "2     27 rue du Colonel Pierre Avia         7          Paris  \n",
              "3                78934 Hillside Dr.         8       Pasadena  \n",
              "4                   7734 Strong St.        10  San Francisco  \n",
              "...                             ...       ...            ...  \n",
              "2818             C/ Moralzarzal, 86        12         Madrid  \n",
              "2819                    Torikatu 38         1           Oulu  \n",
              "2820             C/ Moralzarzal, 86         3         Madrid  \n",
              "2821          1 rue Alsace-Lorraine         3       Toulouse  \n",
              "2822             8616 Spinnaker Dr.         5         Boston  \n",
              "\n",
              "[2823 rows x 8 columns]"
            ]
          },
          "execution_count": 101,
          "metadata": {},
          "output_type": "execute_result"
        }
      ],
      "source": [
        "sd"
      ]
    },
    {
      "cell_type": "code",
      "execution_count": null,
      "id": "3dbd8e6d",
      "metadata": {
        "id": "3dbd8e6d",
        "outputId": "accc6bf4-7a9f-4aae-ede7-29747eb162fd"
      },
      "outputs": [
        {
          "data": {
            "text/plain": [
              "Classic Cars        967\n",
              "Vintage Cars        607\n",
              "Motorcycles         331\n",
              "Planes              306\n",
              "Trucks and Buses    301\n",
              "Ships               234\n",
              "Trains               77\n",
              "Name: PRODUCTLINE, dtype: int64"
            ]
          },
          "execution_count": 102,
          "metadata": {},
          "output_type": "execute_result"
        }
      ],
      "source": [
        "#Display the types and quantities of sold products\n",
        "sd['PRODUCTLINE'].value_counts()"
      ]
    },
    {
      "cell_type": "code",
      "execution_count": null,
      "id": "bfa8d447",
      "metadata": {
        "id": "bfa8d447"
      },
      "outputs": [],
      "source": [
        "dect_sales_price = {'Classic Cars':0,'Vintage Cars':0,'Motorcycles':0,'Planes':0,'Trucks and Buses':0,'Ships':0,'Trains':0}"
      ]
    },
    {
      "cell_type": "code",
      "execution_count": null,
      "id": "1f3b9445",
      "metadata": {
        "id": "1f3b9445"
      },
      "outputs": [],
      "source": [
        "#Total revenue per product\n",
        "for i in range(len(sd)):\n",
        "    for j in dect_sales_price.keys():\n",
        "        if(j==sd['PRODUCTLINE'][i]):\n",
        "            dect_sales_price[j] = dect_sales_price[j] + (sd['QUANTITYORDERED'][i]*sd['PRICEEACH'][i])"
      ]
    },
    {
      "cell_type": "code",
      "execution_count": null,
      "id": "11c25712",
      "metadata": {
        "id": "11c25712",
        "outputId": "846c4623-50e4-4d0f-f40e-bf3bf4affd93"
      },
      "outputs": [
        {
          "data": {
            "text/plain": [
              "{'Classic Cars': 2968546.399999998,\n",
              " 'Vintage Cars': 1644212.05,\n",
              " 'Motorcycles': 971086.2900000006,\n",
              " 'Planes': 877942.2100000001,\n",
              " 'Trucks and Buses': 947355.1799999999,\n",
              " 'Ships': 677940.3999999999,\n",
              " 'Trains': 203804.26}"
            ]
          },
          "execution_count": 105,
          "metadata": {},
          "output_type": "execute_result"
        }
      ],
      "source": [
        "dect_sales_price"
      ]
    },
    {
      "cell_type": "code",
      "execution_count": null,
      "id": "d9948d60",
      "metadata": {
        "id": "d9948d60"
      },
      "outputs": [],
      "source": [
        "dect_sales_unit = {'Classic Cars':0,'Vintage Cars':0,'Motorcycles':0,'Planes':0,'Trucks and Buses':0,'Ships':0,'Trains':0}"
      ]
    },
    {
      "cell_type": "code",
      "execution_count": null,
      "id": "3d1a5426",
      "metadata": {
        "id": "3d1a5426"
      },
      "outputs": [],
      "source": [
        "#Total sold units for each product\n",
        "for i in range(len(sd)):\n",
        "    for j in dect_sales_unit.keys():\n",
        "        if(j==sd['PRODUCTLINE'][i]):\n",
        "            dect_sales_unit[j] = dect_sales_unit[j] + (sd['QUANTITYORDERED'][i])"
      ]
    },
    {
      "cell_type": "code",
      "execution_count": null,
      "id": "8500737a",
      "metadata": {
        "id": "8500737a",
        "outputId": "69c60bce-6570-4991-f061-60acb0257550"
      },
      "outputs": [
        {
          "data": {
            "text/plain": [
              "{'Classic Cars': 33992,\n",
              " 'Vintage Cars': 21069,\n",
              " 'Motorcycles': 11663,\n",
              " 'Planes': 10727,\n",
              " 'Trucks and Buses': 10777,\n",
              " 'Ships': 8127,\n",
              " 'Trains': 2712}"
            ]
          },
          "execution_count": 108,
          "metadata": {},
          "output_type": "execute_result"
        }
      ],
      "source": [
        "dect_sales_unit"
      ]
    },
    {
      "cell_type": "code",
      "execution_count": null,
      "id": "faff778c",
      "metadata": {
        "id": "faff778c"
      },
      "outputs": [],
      "source": [
        "dect_avg_sales = {'Classic Cars':0,'Vintage Cars':0,'Motorcycles':0,'Planes':0,'Trucks and Buses':0,'Ships':0,'Trains':0}"
      ]
    },
    {
      "cell_type": "code",
      "execution_count": null,
      "id": "fdec89f4",
      "metadata": {
        "id": "fdec89f4"
      },
      "outputs": [],
      "source": [
        "#Unit price Average\n",
        "for j in dect_avg_sales.keys():\n",
        "            dect_avg_sales[j] = (dect_sales_price[j]/dect_sales_unit[j])"
      ]
    },
    {
      "cell_type": "code",
      "execution_count": null,
      "id": "44940fbd",
      "metadata": {
        "id": "44940fbd",
        "outputId": "acea60f0-6a98-4c78-b412-136d02361cf1"
      },
      "outputs": [
        {
          "data": {
            "text/plain": [
              "{'Classic Cars': 87.33073664391615,\n",
              " 'Vintage Cars': 78.03939674403152,\n",
              " 'Motorcycles': 83.26213581411307,\n",
              " 'Planes': 81.84415120723409,\n",
              " 'Trucks and Buses': 87.90527790665305,\n",
              " 'Ships': 83.41828472991263,\n",
              " 'Trains': 75.14906342182891}"
            ]
          },
          "execution_count": 111,
          "metadata": {},
          "output_type": "execute_result"
        }
      ],
      "source": [
        "dect_avg_sales"
      ]
    },
    {
      "cell_type": "code",
      "execution_count": null,
      "id": "5d8e045d",
      "metadata": {
        "id": "5d8e045d"
      },
      "outputs": [],
      "source": [
        "dect_order_number = {'Classic Cars':0,'Vintage Cars':0,'Motorcycles':0,'Planes':0,'Trucks and Buses':0,'Ships':0,'Trains':0}"
      ]
    },
    {
      "cell_type": "code",
      "execution_count": null,
      "id": "af90187e",
      "metadata": {
        "id": "af90187e"
      },
      "outputs": [],
      "source": [
        "#Total number of orders for each product\n",
        "for i in range(len(sd)):\n",
        "    for j in dect_order_number.keys():\n",
        "        if(j==sd['PRODUCTLINE'][i]):\n",
        "            dect_order_number[j] = dect_order_number[j] + 1"
      ]
    },
    {
      "cell_type": "code",
      "execution_count": null,
      "id": "295f1454",
      "metadata": {
        "id": "295f1454",
        "outputId": "c7f1371b-447b-40ab-8487-1eceb1464c3d"
      },
      "outputs": [
        {
          "data": {
            "text/plain": [
              "{'Classic Cars': 967,\n",
              " 'Vintage Cars': 607,\n",
              " 'Motorcycles': 331,\n",
              " 'Planes': 306,\n",
              " 'Trucks and Buses': 301,\n",
              " 'Ships': 234,\n",
              " 'Trains': 77}"
            ]
          },
          "execution_count": 114,
          "metadata": {},
          "output_type": "execute_result"
        }
      ],
      "source": [
        "dect_order_number"
      ]
    },
    {
      "cell_type": "code",
      "execution_count": null,
      "id": "57ed8690",
      "metadata": {
        "id": "57ed8690"
      },
      "outputs": [],
      "source": [
        "list_price =[]\n",
        "for i in dect_sales_price.keys():\n",
        "    list_price.append(dect_sales_price[i])"
      ]
    },
    {
      "cell_type": "code",
      "execution_count": null,
      "id": "60a94687",
      "metadata": {
        "id": "60a94687"
      },
      "outputs": [],
      "source": [
        "list_price.sort()"
      ]
    },
    {
      "cell_type": "code",
      "execution_count": null,
      "id": "3aa25bfd",
      "metadata": {
        "id": "3aa25bfd"
      },
      "outputs": [],
      "source": [
        "#Ordering products by revenue\n",
        "list_product_price = []\n",
        "for i in range(6,-1,-1):\n",
        "    for j in dect_sales_price.keys():\n",
        "        if(list_price[i]==dect_sales_price[j]):\n",
        "            list_product_price.append(j)"
      ]
    },
    {
      "cell_type": "code",
      "execution_count": null,
      "id": "b4093da5",
      "metadata": {
        "id": "b4093da5",
        "outputId": "129d8c89-59f1-4841-ecd0-c1fb03cf3cd5"
      },
      "outputs": [
        {
          "data": {
            "text/plain": [
              "['Classic Cars',\n",
              " 'Vintage Cars',\n",
              " 'Motorcycles',\n",
              " 'Trucks and Buses',\n",
              " 'Planes',\n",
              " 'Ships',\n",
              " 'Trains']"
            ]
          },
          "execution_count": 118,
          "metadata": {},
          "output_type": "execute_result"
        }
      ],
      "source": [
        "list_product_price"
      ]
    },
    {
      "cell_type": "code",
      "execution_count": null,
      "id": "32926570",
      "metadata": {
        "id": "32926570",
        "outputId": "2ba99655-ac86-42d1-af94-1e7735c59de5"
      },
      "outputs": [
        {
          "data": {
            "text/plain": [
              "['Classic Cars',\n",
              " 'Vintage Cars',\n",
              " 'Motorcycles',\n",
              " 'Trucks and Buses',\n",
              " 'Planes',\n",
              " 'Ships',\n",
              " 'Trains']"
            ]
          },
          "execution_count": 119,
          "metadata": {},
          "output_type": "execute_result"
        }
      ],
      "source": [
        "#Ordering products by sold units\n",
        "list_unit =[]\n",
        "for i in dect_sales_unit.keys():\n",
        "    list_unit.append(dect_sales_unit[i])\n",
        "list_unit.sort()\n",
        "list_product_unit = []\n",
        "for i in range(6,-1,-1):\n",
        "    for j in dect_sales_price.keys():\n",
        "        if(list_unit[i]==dect_sales_unit[j]):\n",
        "            list_product_unit.append(j)\n",
        "list_product_unit"
      ]
    },
    {
      "cell_type": "code",
      "execution_count": null,
      "id": "7471cb5f",
      "metadata": {
        "id": "7471cb5f",
        "outputId": "da3ecf87-976c-456a-d160-e138059e04ae"
      },
      "outputs": [
        {
          "data": {
            "text/plain": [
              "['Trucks and Buses',\n",
              " 'Classic Cars',\n",
              " 'Ships',\n",
              " 'Motorcycles',\n",
              " 'Planes',\n",
              " 'Vintage Cars',\n",
              " 'Trains']"
            ]
          },
          "execution_count": 120,
          "metadata": {},
          "output_type": "execute_result"
        }
      ],
      "source": [
        "#Ordering products by the average of each unit\n",
        "list_avg =[]\n",
        "for i in dect_avg_sales.keys():\n",
        "    list_avg.append(dect_avg_sales[i])\n",
        "list_avg.sort()\n",
        "list_product_avg = []\n",
        "for i in range(6,-1,-1):\n",
        "    for j in dect_avg_sales.keys():\n",
        "        if(list_avg[i]==dect_avg_sales[j]):\n",
        "            list_product_avg.append(j)\n",
        "list_product_avg"
      ]
    },
    {
      "cell_type": "code",
      "execution_count": null,
      "id": "eafc98ec",
      "metadata": {
        "id": "eafc98ec",
        "outputId": "99093740-be46-4a8e-de97-393e0a85038a"
      },
      "outputs": [
        {
          "data": {
            "text/plain": [
              "['Classic Cars',\n",
              " 'Vintage Cars',\n",
              " 'Motorcycles',\n",
              " 'Planes',\n",
              " 'Trucks and Buses',\n",
              " 'Ships',\n",
              " 'Trains']"
            ]
          },
          "execution_count": 121,
          "metadata": {},
          "output_type": "execute_result"
        }
      ],
      "source": [
        "#Ordering products by number of requests\n",
        "list_order =[]\n",
        "for i in dect_order_number.keys():\n",
        "    list_order.append(dect_order_number[i])\n",
        "list_order.sort()\n",
        "dect_order_numbers = []\n",
        "for i in range(6,-1,-1):\n",
        "    for j in dect_order_number.keys():\n",
        "        if(list_order[i]==dect_order_number[j]):\n",
        "            dect_order_numbers.append(j)\n",
        "dect_order_numbers"
      ]
    },
    {
      "cell_type": "code",
      "execution_count": null,
      "id": "7e813bc9",
      "metadata": {
        "id": "7e813bc9",
        "outputId": "e1f94ecb-adeb-4d5b-abe1-e960097200b3"
      },
      "outputs": [
        {
          "data": {
            "text/plain": [
              "{1: [9, 26, 36, 49, 63, 89, 101, 115, 128, 133, 156, 170, 182, 195, 208, 212, 235, 249, 261, 266, 275, 288, 300, 312, 325, 338, 351, 363, 367, 390, 403, 415, 420, 430, 443, 457, 470, 475, 485, 497, 501, 511, 523, 536, 548, 561, 573, 578, 587, 596, 609, 621, 635, 648, 653, 676, 680, 689, 698, 702, 724, 728, 737, 748, 753, 776, 786, 813, 825, 830, 840, 852, 865, 877, 881, 891, 904, 908, 918, 931, 944, 956, 961, 971, 984, 997, 1009, 1013, 1032, 1056, 1057, 1074, 1086, 1099, 1111, 1114, 1124, 1136, 1149, 1162, ...], 2: [0, 10, 22, 50, 54, 64, 76, 80, 90, 102, 106, 116, 129, 143, 157, 171, 183, 186, 196, 209, 222, 236, 240, 250, 262, 276, 289, 301, 313, 316, 326, 339, 352, 364, 377, 391, 404, 416, 444, 458, 471, 498, 524, 537, 549, 552, 562, 597, 610, 622, 636, 649, 663, 677, 699, 725, 749, 763, 777, 781, 787, 799, 804, 814, 826, 853, 866, 878, 905, 932, 935, 945, 985, 988, 998, 1010, 1033, 1058, 1059, 1065, 1075, 1087, 1100, 1112, 1137, 1150, 1163, 1175, 1187, 1199, 1212, 1215, 1225, 1251, 1264, 1286, 1289, 1299, 1312, 1325, ...], 3: [23, 27, 37, 51, 77, 103, 130, 144, 158, 161, 184, 197, 210, 213, 223, 237, 263, 277, 291, 314, 327, 340, 342, 365, 378, 394, 417, 421, 431, 445, 448, 472, 476, 486, 499, 502, 512, 525, 527, 574, 575, 579, 588, 600, 623, 626, 650, 664, 681, 690, 712, 729, 738, 750, 764, 778, 800, 801, 827, 831, 841, 854, 856, 882, 892, 906, 909, 919, 933, 957, 958, 962, 972, 986, 999, 1011, 1014, 1034, 1060, 1076, 1088, 1090, 1113, 1115, 1125, 1138, 1140, 1164, 1165, 1190, 1213, 1237, 1238, 1252, 1265, 1268, 1277, 1300, 1313, 1326, ...], 4: [11, 24, 55, 65, 78, 81, 91, 104, 107, 131, 134, 172, 187, 251, 264, 267, 302, 317, 353, 368, 405, 418, 459, 473, 487, 513, 538, 550, 553, 576, 589, 598, 611, 624, 637, 651, 654, 691, 700, 703, 739, 751, 754, 782, 788, 802, 805, 815, 828, 842, 867, 879, 893, 920, 936, 959, 973, 989, 1015, 1035, 1061, 1066, 1101, 1126, 1151, 1176, 1188, 1200, 1214, 1216, 1239, 1242, 1278, 1287, 1290, 1316, 1379, 1403, 1413, 1425, 1436, 1439, 1467, 1477, 1490, 1503, 1514, 1517, 1523, 1537, 1550, 1562, 1565, 1575, 1588, 1591, 1627, 1642, 1678, 1692, ...], 5: [1, 12, 25, 28, 38, 52, 53, 66, 79, 92, 105, 117, 132, 135, 145, 159, 160, 162, 185, 198, 211, 214, 224, 238, 239, 241, 252, 265, 278, 290, 292, 315, 328, 341, 343, 366, 379, 392, 393, 395, 419, 422, 432, 446, 447, 449, 474, 477, 500, 503, 526, 528, 551, 563, 577, 580, 599, 601, 625, 627, 652, 665, 678, 679, 682, 701, 713, 726, 727, 730, 752, 755, 765, 779, 780, 789, 803, 816, 829, 832, 855, 857, 880, 883, 907, 910, 934, 946, 960, 963, 987, 1000, 1012, 1016, 1036, 1062, 1063, 1064, 1077, 1089, ...], 6: [13, 39, 67, 93, 108, 118, 146, 173, 188, 225, 253, 268, 303, 318, 354, 369, 380, 406, 433, 460, 488, 514, 539, 554, 564, 612, 638, 655, 666, 704, 714, 766, 783, 790, 817, 843, 868, 894, 921, 937, 947, 974, 990, 1017, 1037, 1038, 1067, 1127, 1177, 1202, 1217, 1227, 1243, 1291, 1302, 1328, 1355, 1381, 1440, 1451, 1479, 1518, 1525, 1577, 1592, 1603, 1628, 1654, 1680, 1718, 1729, 1746, 1756, 1804, 1821, 1832, 1880, 1896, 1906, 1946, 1956, 1982, 1999, 2009, 2048, 2085, 2100, 2107, 2134, 2159, 2175, 2183, 2209, 2224, 2235, 2252, 2289, 2305, 2312, 2339, ...], 7: [2, 14, 29, 40, 56, 68, 82, 94, 119, 136, 147, 163, 174, 199, 215, 226, 242, 279, 293, 304, 329, 344, 355, 381, 396, 407, 423, 434, 450, 461, 478, 504, 529, 540, 565, 602, 613, 628, 639, 667, 715, 756, 767, 791, 806, 818, 833, 858, 869, 884, 895, 911, 922, 948, 964, 975, 1001, 1018, 1039, 1040, 1078, 1092, 1103, 1117, 1142, 1153, 1167, 1178, 1192, 1228, 1254, 1303, 1318, 1329, 1345, 1356, 1371, 1404, 1426, 1452, 1468, 1480, 1494, 1504, 1526, 1566, 1578, 1604, 1644, 1655, 1670, 1704, 1730, 1757, 1781, 1794, 1805, 1833, 1856, 1870, ...], 8: [3, 15, 41, 57, 69, 83, 95, 109, 120, 148, 175, 176, 189, 200, 227, 243, 254, 255, 269, 280, 305, 306, 319, 330, 356, 357, 370, 382, 408, 409, 435, 462, 463, 489, 515, 541, 555, 566, 590, 614, 615, 640, 641, 656, 668, 692, 705, 716, 740, 768, 784, 792, 807, 819, 844, 870, 871, 896, 923, 938, 949, 976, 991, 1002, 1019, 1041, 1042, 1043, 1068, 1079, 1104, 1105, 1128, 1154, 1155, 1179, 1180, 1203, 1204, 1218, 1229, 1244, 1255, 1279, 1292, 1304, 1330, 1357, 1382, 1383, 1405, 1427, 1441, 1453, 1469, 1481, 1505, 1519, 1527, 1551, ...], 9: [16, 30, 42, 70, 96, 121, 137, 149, 164, 190, 201, 216, 228, 256, 270, 281, 294, 320, 331, 345, 371, 383, 397, 424, 436, 451, 479, 490, 505, 516, 530, 542, 567, 581, 591, 603, 629, 657, 669, 683, 693, 706, 717, 731, 741, 757, 769, 793, 820, 834, 845, 859, 885, 897, 912, 924, 950, 965, 977, 992, 1003, 1020, 1021, 1044, 1069, 1080, 1093, 1118, 1129, 1143, 1168, 1193, 1205, 1230, 1245, 1256, 1270, 1280, 1293, 1305, 1319, 1331, 1346, 1358, 1372, 1384, 1395, 1406, 1417, 1428, 1442, 1454, 1482, 1495, 1506, 1528, 1542, 1552, 1580, 1594, ...], 10: [4, 5, 17, 31, 43, 44, 58, 59, 71, 84, 85, 97, 110, 111, 122, 138, 150, 151, 165, 177, 178, 191, 202, 203, 217, 229, 230, 244, 257, 271, 282, 283, 295, 307, 308, 321, 332, 333, 346, 358, 359, 372, 384, 385, 398, 410, 411, 425, 437, 438, 452, 464, 465, 480, 491, 492, 506, 517, 518, 531, 543, 544, 556, 557, 568, 582, 592, 593, 604, 616, 617, 630, 642, 643, 658, 670, 671, 684, 694, 695, 707, 718, 719, 732, 742, 743, 758, 770, 771, 785, 794, 808, 809, 821, 835, 846, 847, 860, 872, 873, ...], 11: [6, 7, 18, 19, 20, 32, 33, 34, 45, 46, 47, 60, 61, 72, 73, 74, 86, 87, 98, 99, 100, 112, 113, 114, 123, 124, 125, 139, 140, 141, 152, 153, 154, 166, 167, 168, 179, 180, 181, 192, 193, 194, 204, 205, 206, 218, 219, 220, 231, 232, 233, 245, 246, 247, 258, 259, 260, 272, 273, 274, 284, 285, 286, 296, 297, 298, 309, 310, 311, 322, 323, 324, 334, 335, 347, 348, 349, 360, 361, 362, 373, 374, 375, 386, 387, 399, 400, 401, 412, 413, 414, 426, 427, 428, 439, 440, 441, 453, 454, 455, ...], 12: [8, 21, 35, 48, 62, 75, 88, 126, 127, 142, 155, 169, 207, 221, 234, 248, 287, 299, 336, 337, 350, 376, 388, 389, 402, 429, 442, 456, 469, 484, 496, 510, 522, 535, 572, 586, 608, 634, 647, 662, 674, 675, 688, 711, 722, 723, 736, 747, 762, 775, 798, 812, 839, 851, 864, 890, 903, 917, 930, 955, 970, 983, 1008, 1030, 1031, 1054, 1055, 1085, 1098, 1123, 1135, 1148, 1161, 1173, 1210, 1235, 1250, 1261, 1262, 1275, 1310, 1324, 1337, 1351, 1364, 1389, 1400, 1422, 1447, 1459, 1460, 1474, 1500, 1533, 1547, 1558, 1572, 1611, 1624, 1636, ...]}"
            ]
          },
          "execution_count": 122,
          "metadata": {},
          "output_type": "execute_result"
        }
      ],
      "source": [
        "s= sd.groupby(['MONTH_ID'])\n",
        "s.groups"
      ]
    },
    {
      "cell_type": "code",
      "execution_count": null,
      "id": "4a0a5518",
      "metadata": {
        "id": "4a0a5518"
      },
      "outputs": [],
      "source": [
        "#Total revenue generated for each month\n",
        "for i in s.groups.keys():\n",
        "    d= s.groups[i]\n",
        "    s.groups[i] = 0\n",
        "    for j in range(len(d)):\n",
        "        s.groups[i] = s.groups[i] + (sd['QUANTITYORDERED'][d[j]]*sd['PRICEEACH'][d[j]])"
      ]
    },
    {
      "cell_type": "code",
      "execution_count": null,
      "id": "6a28960d",
      "metadata": {
        "id": "6a28960d",
        "outputId": "d9dfb711-4cf6-41c4-ea79-c5aa001fdd27"
      },
      "outputs": [
        {
          "data": {
            "text/plain": [
              "dict_values([659582.2900000003, 668328.1499999998, 626186.7300000003, 560334.4600000002, 756812.9099999998, 384743.58999999997, 420973.33999999997, 552132.9100000001, 474900.11999999994, 919036.7000000007, 1744682.4499999997, 523173.13999999984])"
            ]
          },
          "execution_count": 124,
          "metadata": {},
          "output_type": "execute_result"
        }
      ],
      "source": [
        "s.groups.values()"
      ]
    },
    {
      "cell_type": "code",
      "execution_count": null,
      "id": "7a500ea6",
      "metadata": {
        "id": "7a500ea6"
      },
      "outputs": [],
      "source": [
        "#Total units sold in each month\n",
        "unit= sd.groupby(['MONTH_ID'])\n",
        "for i in unit.groups.keys():\n",
        "    d= unit.groups[i]\n",
        "    unit.groups[i] = 0\n",
        "    for j in range(len(d)):\n",
        "        unit.groups[i] = unit.groups[i] + (sd['QUANTITYORDERED'][d[j]])"
      ]
    },
    {
      "cell_type": "code",
      "execution_count": null,
      "id": "9f5f7208",
      "metadata": {
        "id": "9f5f7208",
        "outputId": "64ea3c33-7796-41d7-a242-c7836c71bc9f"
      },
      "outputs": [
        {
          "data": {
            "text/plain": [
              "{1: 7997, 2: 7903, 3: 7585, 4: 6704, 5: 8992, 6: 4620, 7: 4899, 8: 6538, 9: 5681, 10: 10998, 11: 20857, 12: 6293}"
            ]
          },
          "execution_count": 126,
          "metadata": {},
          "output_type": "execute_result"
        }
      ],
      "source": [
        "unit.groups"
      ]
    },
    {
      "cell_type": "code",
      "execution_count": null,
      "id": "a6b7c63e",
      "metadata": {
        "id": "a6b7c63e"
      },
      "outputs": [],
      "source": [
        "# Average price per unit per month\n",
        "avg = {}\n",
        "for j in unit.groups.keys():\n",
        "            avg[j] = (s.groups[j]/unit.groups[j])"
      ]
    },
    {
      "cell_type": "code",
      "execution_count": null,
      "id": "b9635089",
      "metadata": {
        "id": "b9635089",
        "outputId": "858c6a78-88da-4214-ff5d-b4a4b3818b7e"
      },
      "outputs": [
        {
          "data": {
            "text/plain": [
              "{1: 82.4787157684132,\n",
              " 2: 84.56638618246232,\n",
              " 3: 82.55593012524724,\n",
              " 4: 83.58210918854418,\n",
              " 5: 84.1651367882562,\n",
              " 6: 83.27783333333332,\n",
              " 7: 85.93046335986935,\n",
              " 8: 84.44981798715206,\n",
              " 9: 83.59445872205596,\n",
              " 10: 83.56398436079293,\n",
              " 11: 83.6497315050103,\n",
              " 12: 83.13572858731922}"
            ]
          },
          "execution_count": 128,
          "metadata": {},
          "output_type": "execute_result"
        }
      ],
      "source": [
        "avg"
      ]
    },
    {
      "cell_type": "code",
      "execution_count": null,
      "id": "33759129",
      "metadata": {
        "id": "33759129",
        "outputId": "94e1cba4-f4ff-4bf9-c47d-d21e0114fa6f"
      },
      "outputs": [
        {
          "data": {
            "image/png": "[encoded data removed]",
            "text/plain": [
              "<Figure size 640x480 with 1 Axes>"
            ]
          },
          "metadata": {},
          "output_type": "display_data"
        }
      ],
      "source": [
        "#Plot for total revenue generated for each month\n",
        "plt.plot(s.groups.keys(),s.groups.values(),marker='.')\n",
        "plt.xlabel('MONTH')\n",
        "plt.ylabel('SALES PRICE')\n",
        "plt.show()"
      ]
    },
    {
      "cell_type": "code",
      "execution_count": null,
      "id": "df224172",
      "metadata": {
        "id": "df224172",
        "outputId": "bed6f79f-5d96-4fd3-98dc-d098d658911c"
      },
      "outputs": [
        {
          "data": {
            "image/png": "[encoded data removed]",
            "text/plain": [
              "<Figure size 640x480 with 1 Axes>"
            ]
          },
          "metadata": {},
          "output_type": "display_data"
        }
      ],
      "source": [
        "#Plot of total units sold each month\n",
        "plt.plot(unit.groups.keys(),unit.groups.values(),color=\"black\",marker='.')\n",
        "plt.xlabel('MONTH')\n",
        "plt.ylabel('SALES UNIT')\n",
        "plt.show()"
      ]
    },
    {
      "cell_type": "code",
      "execution_count": null,
      "id": "810dfcdc",
      "metadata": {
        "id": "810dfcdc",
        "outputId": "730c70a0-85db-4c11-bad5-db2c72ca58dc"
      },
      "outputs": [
        {
          "data": {
            "image/png": "[encoded data removed]",
            "text/plain": [
              "<Figure size 640x480 with 1 Axes>"
            ]
          },
          "metadata": {},
          "output_type": "display_data"
        }
      ],
      "source": [
        "# plot of average price per unit for each month\n",
        "plt.plot(avg.keys(),avg.values(),color=\"green\",marker='.')\n",
        "plt.xlabel('MONTH')\n",
        "plt.ylabel('SALES AVG')\n",
        "plt.show()"
      ]
    },
    {
      "cell_type": "code",
      "execution_count": null,
      "id": "62a32356",
      "metadata": {
        "id": "62a32356",
        "outputId": "068a3d77-581b-4d58-d923-2d01f259779d"
      },
      "outputs": [
        {
          "data": {
            "text/plain": [
              "CITY\n",
              "Madrid        10958\n",
              "San Rafael     6366\n",
              "NYC            5294\n",
              "Singapore      2760\n",
              "Paris          2521\n",
              "Name: QUANTITYORDERED, dtype: int64"
            ]
          },
          "execution_count": 132,
          "metadata": {},
          "output_type": "execute_result"
        }
      ],
      "source": [
        "# The top five cities have the highest sales rates\n",
        "unit= sd.groupby(['CITY'])\n",
        "s= unit['QUANTITYORDERED'].sum()\n",
        "s= s.sort_values(ascending=False).head(5)\n",
        "s"
      ]
    },
    {
      "cell_type": "code",
      "execution_count": null,
      "id": "7141ca24",
      "metadata": {
        "id": "7141ca24"
      },
      "outputs": [],
      "source": []
    },
    {
      "cell_type": "code",
      "execution_count": null,
      "id": "c7c81827",
      "metadata": {
        "id": "c7c81827"
      },
      "outputs": [],
      "source": []
    }
  ],
  "metadata": {
    "kernelspec": {
      "display_name": "Python 3 (ipykernel)",
      "language": "python",
      "name": "python3"
    },
    "language_info": {
      "codemirror_mode": {
        "name": "ipython",
        "version": 3
      },
      "file_extension": ".py",
      "mimetype": "text/x-python",
      "name": "python",
      "nbconvert_exporter": "python",
      "pygments_lexer": "ipython3",
      "version": "3.10.9"
    },
    "colab": {
      "provenance": [],
      "include_colab_link": true
    }
  },
  "nbformat": 4,
  "nbformat_minor": 5
}